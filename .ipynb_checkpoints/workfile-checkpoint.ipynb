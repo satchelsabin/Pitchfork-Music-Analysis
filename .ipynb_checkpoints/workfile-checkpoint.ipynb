{
 "cells": [
  {
   "cell_type": "code",
   "execution_count": 3,
   "metadata": {},
   "outputs": [],
   "source": [
    "import sqlite3\n",
    "import pandas as pd\n",
    "\n",
    "if __name__ == '__main__':\n",
    "    con = sqlite3.connect(\"Data/database.sqlite\")\n",
    "    df_content = pd.read_sql_query(\"SELECT * from content \", con)\n",
    "    df_artist = pd.read_sql_query(\"SELECT * from artists \", con)\n",
    "    df_reviews =pd.read_sql_query(\"SELECT * from reviews \", con)\n",
    "    df_years=pd.read_sql_query(\"SELECT * from years \", con)"
   ]
  },
  {
   "cell_type": "code",
   "execution_count": 4,
   "metadata": {},
   "outputs": [],
   "source": [
    "df=df_content.join(df_reviews.set_index('reviewid'),on='reviewid')\n"
   ]
  },
  {
   "cell_type": "code",
   "execution_count": 6,
   "metadata": {},
   "outputs": [
    {
     "data": {
      "text/html": [
       "<div>\n",
       "<style scoped>\n",
       "    .dataframe tbody tr th:only-of-type {\n",
       "        vertical-align: middle;\n",
       "    }\n",
       "\n",
       "    .dataframe tbody tr th {\n",
       "        vertical-align: top;\n",
       "    }\n",
       "\n",
       "    .dataframe thead th {\n",
       "        text-align: right;\n",
       "    }\n",
       "</style>\n",
       "<table border=\"1\" class=\"dataframe\">\n",
       "  <thead>\n",
       "    <tr style=\"text-align: right;\">\n",
       "      <th></th>\n",
       "      <th>reviewid</th>\n",
       "      <th>content</th>\n",
       "      <th>title</th>\n",
       "      <th>artist</th>\n",
       "      <th>url</th>\n",
       "      <th>score</th>\n",
       "      <th>best_new_music</th>\n",
       "      <th>author</th>\n",
       "      <th>author_type</th>\n",
       "      <th>pub_date</th>\n",
       "      <th>pub_weekday</th>\n",
       "      <th>pub_day</th>\n",
       "      <th>pub_month</th>\n",
       "      <th>pub_year</th>\n",
       "    </tr>\n",
       "  </thead>\n",
       "  <tbody>\n",
       "    <tr>\n",
       "      <th>0</th>\n",
       "      <td>22703</td>\n",
       "      <td>“Trip-hop” eventually became a ’90s punchline,...</td>\n",
       "      <td>mezzanine</td>\n",
       "      <td>massive attack</td>\n",
       "      <td>http://pitchfork.com/reviews/albums/22703-mezz...</td>\n",
       "      <td>9.3</td>\n",
       "      <td>0</td>\n",
       "      <td>nate patrin</td>\n",
       "      <td>contributor</td>\n",
       "      <td>2017-01-08</td>\n",
       "      <td>6</td>\n",
       "      <td>8</td>\n",
       "      <td>1</td>\n",
       "      <td>2017</td>\n",
       "    </tr>\n",
       "    <tr>\n",
       "      <th>1</th>\n",
       "      <td>22721</td>\n",
       "      <td>Eight years, five albums, and two EPs in, the ...</td>\n",
       "      <td>prelapsarian</td>\n",
       "      <td>krallice</td>\n",
       "      <td>http://pitchfork.com/reviews/albums/22721-prel...</td>\n",
       "      <td>7.9</td>\n",
       "      <td>0</td>\n",
       "      <td>zoe camp</td>\n",
       "      <td>contributor</td>\n",
       "      <td>2017-01-07</td>\n",
       "      <td>5</td>\n",
       "      <td>7</td>\n",
       "      <td>1</td>\n",
       "      <td>2017</td>\n",
       "    </tr>\n",
       "    <tr>\n",
       "      <th>2</th>\n",
       "      <td>22659</td>\n",
       "      <td>Minneapolis’ Uranium Club seem to revel in bei...</td>\n",
       "      <td>all of them naturals</td>\n",
       "      <td>uranium club</td>\n",
       "      <td>http://pitchfork.com/reviews/albums/22659-all-...</td>\n",
       "      <td>7.3</td>\n",
       "      <td>0</td>\n",
       "      <td>david glickman</td>\n",
       "      <td>contributor</td>\n",
       "      <td>2017-01-07</td>\n",
       "      <td>5</td>\n",
       "      <td>7</td>\n",
       "      <td>1</td>\n",
       "      <td>2017</td>\n",
       "    </tr>\n",
       "    <tr>\n",
       "      <th>3</th>\n",
       "      <td>22661</td>\n",
       "      <td>Kleenex began with a crash. It transpired one ...</td>\n",
       "      <td>first songs</td>\n",
       "      <td>kleenex, liliput</td>\n",
       "      <td>http://pitchfork.com/reviews/albums/22661-firs...</td>\n",
       "      <td>9.0</td>\n",
       "      <td>1</td>\n",
       "      <td>jenn pelly</td>\n",
       "      <td>associate reviews editor</td>\n",
       "      <td>2017-01-06</td>\n",
       "      <td>4</td>\n",
       "      <td>6</td>\n",
       "      <td>1</td>\n",
       "      <td>2017</td>\n",
       "    </tr>\n",
       "    <tr>\n",
       "      <th>4</th>\n",
       "      <td>22725</td>\n",
       "      <td>It is impossible to consider a given release b...</td>\n",
       "      <td>new start</td>\n",
       "      <td>taso</td>\n",
       "      <td>http://pitchfork.com/reviews/albums/22725-new-...</td>\n",
       "      <td>8.1</td>\n",
       "      <td>0</td>\n",
       "      <td>kevin lozano</td>\n",
       "      <td>tracks coordinator</td>\n",
       "      <td>2017-01-06</td>\n",
       "      <td>4</td>\n",
       "      <td>6</td>\n",
       "      <td>1</td>\n",
       "      <td>2017</td>\n",
       "    </tr>\n",
       "    <tr>\n",
       "      <th>...</th>\n",
       "      <td>...</td>\n",
       "      <td>...</td>\n",
       "      <td>...</td>\n",
       "      <td>...</td>\n",
       "      <td>...</td>\n",
       "      <td>...</td>\n",
       "      <td>...</td>\n",
       "      <td>...</td>\n",
       "      <td>...</td>\n",
       "      <td>...</td>\n",
       "      <td>...</td>\n",
       "      <td>...</td>\n",
       "      <td>...</td>\n",
       "      <td>...</td>\n",
       "    </tr>\n",
       "    <tr>\n",
       "      <th>18388</th>\n",
       "      <td>1535</td>\n",
       "      <td>The marketing guys of yer average modern megac...</td>\n",
       "      <td>let us replay!</td>\n",
       "      <td>coldcut</td>\n",
       "      <td>http://pitchfork.com/reviews/albums/1535-let-u...</td>\n",
       "      <td>8.9</td>\n",
       "      <td>0</td>\n",
       "      <td>james p. wisdom</td>\n",
       "      <td>None</td>\n",
       "      <td>1999-01-26</td>\n",
       "      <td>1</td>\n",
       "      <td>26</td>\n",
       "      <td>1</td>\n",
       "      <td>1999</td>\n",
       "    </tr>\n",
       "    <tr>\n",
       "      <th>18389</th>\n",
       "      <td>1341</td>\n",
       "      <td>Well, it's been two weeks now, and I guess it'...</td>\n",
       "      <td>1999</td>\n",
       "      <td>cassius</td>\n",
       "      <td>http://pitchfork.com/reviews/albums/1341-1999/</td>\n",
       "      <td>4.8</td>\n",
       "      <td>0</td>\n",
       "      <td>james p. wisdom</td>\n",
       "      <td>None</td>\n",
       "      <td>1999-01-26</td>\n",
       "      <td>1</td>\n",
       "      <td>26</td>\n",
       "      <td>1</td>\n",
       "      <td>1999</td>\n",
       "    </tr>\n",
       "    <tr>\n",
       "      <th>18390</th>\n",
       "      <td>5376</td>\n",
       "      <td>Out of Tune is a Steve Martin album.  Yes, I'l...</td>\n",
       "      <td>out of tune</td>\n",
       "      <td>mojave 3</td>\n",
       "      <td>http://pitchfork.com/reviews/albums/5376-out-o...</td>\n",
       "      <td>6.3</td>\n",
       "      <td>0</td>\n",
       "      <td>jason josephes</td>\n",
       "      <td>contributor</td>\n",
       "      <td>1999-01-12</td>\n",
       "      <td>1</td>\n",
       "      <td>12</td>\n",
       "      <td>1</td>\n",
       "      <td>1999</td>\n",
       "    </tr>\n",
       "    <tr>\n",
       "      <th>18391</th>\n",
       "      <td>2413</td>\n",
       "      <td>Well, kids, I just went back and re-read my re...</td>\n",
       "      <td>singles breaking up, vol. 1</td>\n",
       "      <td>don caballero</td>\n",
       "      <td>http://pitchfork.com/reviews/albums/2413-singl...</td>\n",
       "      <td>7.2</td>\n",
       "      <td>0</td>\n",
       "      <td>james p. wisdom</td>\n",
       "      <td>None</td>\n",
       "      <td>1999-01-12</td>\n",
       "      <td>1</td>\n",
       "      <td>12</td>\n",
       "      <td>1</td>\n",
       "      <td>1999</td>\n",
       "    </tr>\n",
       "    <tr>\n",
       "      <th>18392</th>\n",
       "      <td>3723</td>\n",
       "      <td>Neil Hamburger's third comedy release is a des...</td>\n",
       "      <td>left for dead in malaysia</td>\n",
       "      <td>neil hamburger</td>\n",
       "      <td>http://pitchfork.com/reviews/albums/3723-left-...</td>\n",
       "      <td>6.5</td>\n",
       "      <td>0</td>\n",
       "      <td>jason josephes</td>\n",
       "      <td>contributor</td>\n",
       "      <td>1999-01-05</td>\n",
       "      <td>1</td>\n",
       "      <td>5</td>\n",
       "      <td>1</td>\n",
       "      <td>1999</td>\n",
       "    </tr>\n",
       "  </tbody>\n",
       "</table>\n",
       "<p>18401 rows × 14 columns</p>\n",
       "</div>"
      ],
      "text/plain": [
       "       reviewid                                            content  \\\n",
       "0         22703  “Trip-hop” eventually became a ’90s punchline,...   \n",
       "1         22721  Eight years, five albums, and two EPs in, the ...   \n",
       "2         22659  Minneapolis’ Uranium Club seem to revel in bei...   \n",
       "3         22661  Kleenex began with a crash. It transpired one ...   \n",
       "4         22725  It is impossible to consider a given release b...   \n",
       "...         ...                                                ...   \n",
       "18388      1535  The marketing guys of yer average modern megac...   \n",
       "18389      1341  Well, it's been two weeks now, and I guess it'...   \n",
       "18390      5376  Out of Tune is a Steve Martin album.  Yes, I'l...   \n",
       "18391      2413  Well, kids, I just went back and re-read my re...   \n",
       "18392      3723  Neil Hamburger's third comedy release is a des...   \n",
       "\n",
       "                             title            artist  \\\n",
       "0                        mezzanine    massive attack   \n",
       "1                     prelapsarian          krallice   \n",
       "2             all of them naturals      uranium club   \n",
       "3                      first songs  kleenex, liliput   \n",
       "4                        new start              taso   \n",
       "...                            ...               ...   \n",
       "18388               let us replay!           coldcut   \n",
       "18389                         1999           cassius   \n",
       "18390                  out of tune          mojave 3   \n",
       "18391  singles breaking up, vol. 1     don caballero   \n",
       "18392    left for dead in malaysia    neil hamburger   \n",
       "\n",
       "                                                     url  score  \\\n",
       "0      http://pitchfork.com/reviews/albums/22703-mezz...    9.3   \n",
       "1      http://pitchfork.com/reviews/albums/22721-prel...    7.9   \n",
       "2      http://pitchfork.com/reviews/albums/22659-all-...    7.3   \n",
       "3      http://pitchfork.com/reviews/albums/22661-firs...    9.0   \n",
       "4      http://pitchfork.com/reviews/albums/22725-new-...    8.1   \n",
       "...                                                  ...    ...   \n",
       "18388  http://pitchfork.com/reviews/albums/1535-let-u...    8.9   \n",
       "18389     http://pitchfork.com/reviews/albums/1341-1999/    4.8   \n",
       "18390  http://pitchfork.com/reviews/albums/5376-out-o...    6.3   \n",
       "18391  http://pitchfork.com/reviews/albums/2413-singl...    7.2   \n",
       "18392  http://pitchfork.com/reviews/albums/3723-left-...    6.5   \n",
       "\n",
       "       best_new_music           author               author_type    pub_date  \\\n",
       "0                   0      nate patrin               contributor  2017-01-08   \n",
       "1                   0         zoe camp               contributor  2017-01-07   \n",
       "2                   0   david glickman               contributor  2017-01-07   \n",
       "3                   1       jenn pelly  associate reviews editor  2017-01-06   \n",
       "4                   0     kevin lozano        tracks coordinator  2017-01-06   \n",
       "...               ...              ...                       ...         ...   \n",
       "18388               0  james p. wisdom                      None  1999-01-26   \n",
       "18389               0  james p. wisdom                      None  1999-01-26   \n",
       "18390               0   jason josephes               contributor  1999-01-12   \n",
       "18391               0  james p. wisdom                      None  1999-01-12   \n",
       "18392               0   jason josephes               contributor  1999-01-05   \n",
       "\n",
       "       pub_weekday  pub_day  pub_month  pub_year  \n",
       "0                6        8          1      2017  \n",
       "1                5        7          1      2017  \n",
       "2                5        7          1      2017  \n",
       "3                4        6          1      2017  \n",
       "4                4        6          1      2017  \n",
       "...            ...      ...        ...       ...  \n",
       "18388            1       26          1      1999  \n",
       "18389            1       26          1      1999  \n",
       "18390            1       12          1      1999  \n",
       "18391            1       12          1      1999  \n",
       "18392            1        5          1      1999  \n",
       "\n",
       "[18401 rows x 14 columns]"
      ]
     },
     "execution_count": 6,
     "metadata": {},
     "output_type": "execute_result"
    }
   ],
   "source": [
    "import numpy as np\n",
    "df"
   ]
  },
  {
   "cell_type": "code",
   "execution_count": 7,
   "metadata": {},
   "outputs": [],
   "source": [
    "\n",
    "adict={}\n",
    "lst=[]\n",
    "for i in df['author']:\n",
    "    adict[i]=np.count_nonzero(df['author']==i)\n",
    "    "
   ]
  },
  {
   "cell_type": "code",
   "execution_count": 8,
   "metadata": {},
   "outputs": [
    {
     "data": {
      "image/png": "[encoded data removed]",
      "text/plain": [
       "<Figure size 432x288 with 1 Axes>"
      ]
     },
     "metadata": {
      "needs_background": "light"
     },
     "output_type": "display_data"
    },
    {
     "data": {
      "text/plain": [
       "<Figure size 2880x720 with 0 Axes>"
      ]
     },
     "metadata": {},
     "output_type": "display_data"
    }
   ],
   "source": [
    "import matplotlib.pyplot as plt\n",
    "from operator import itemgetter\n",
    "x=[]\n",
    "y=[]\n",
    "for key, value in sorted(adict.items(), key=itemgetter(1),reverse=True):\n",
    "    percent=value/df.shape[0]\n",
    "    x.append(key)\n",
    "    y.append(value)\n",
    "plt.xticks(rotation=50)\n",
    "plt.xlabel('Authors')\n",
    "plt.ylabel('Reviews Submitted')\n",
    "plt.bar(x[:10],y[:10])\n",
    "plt.figure(figsize=(40,10))\n",
    "prolific=x[:10]\n",
    "plt.show()"
   ]
  },
  {
   "cell_type": "code",
   "execution_count": 9,
   "metadata": {},
   "outputs": [],
   "source": [
    "df[['pub_year','author']]\n",
    "yeardict={}\n",
    "timedict={}\n",
    "dif=[]\n",
    "for i in df['author'].unique():\n",
    "    start=min(df.groupby('author')['pub_year'].apply(list).loc[i])\n",
    "    end=max(df.groupby('author')['pub_year'].apply(list).loc[i])\n",
    "    years=[start,end]\n",
    "    yeardict[i]=years\n",
    "    timedict[i]=end-start\n",
    "    \n",
    "\n",
    "\n"
   ]
  },
  {
   "cell_type": "code",
   "execution_count": 10,
   "metadata": {},
   "outputs": [
    {
     "data": {
      "image/png": "[encoded data removed]",
      "text/plain": [
       "<Figure size 432x288 with 1 Axes>"
      ]
     },
     "metadata": {
      "needs_background": "light"
     },
     "output_type": "display_data"
    },
    {
     "data": {
      "text/plain": [
       "<Figure size 2880x720 with 0 Axes>"
      ]
     },
     "metadata": {},
     "output_type": "display_data"
    }
   ],
   "source": [
    "\n",
    "x=[]\n",
    "y=[]\n",
    "for key, value in sorted(timedict.items(), key=itemgetter(1),reverse=True):\n",
    "    x.append(key)\n",
    "    y.append(value)\n",
    "plt.xticks(rotation=70)\n",
    "plt.xlabel('Authors')\n",
    "plt.ylabel('Years at Pitchfork')\n",
    "plt.bar(x[:10],y[:10])\n",
    "plt.figure(figsize=(40,10))\n",
    "Time=x[:10]\n",
    "plt.show()"
   ]
  },
  {
   "cell_type": "code",
   "execution_count": 11,
   "metadata": {},
   "outputs": [
    {
     "name": "stdout",
     "output_type": "stream",
     "text": [
      "{'nate patrin': [2.8, 7.041498559077809, 10.0], 'zoe camp': [4.0, 6.788405797101448, 8.7], 'david glickman': [6.9, 7.275, 7.9], 'jenn pelly': [6.5, 8.056097560975608, 9.2], 'kevin lozano': [3.5, 6.972549019607843, 8.7], 'vanessa okoth-obbo': [6.1, 6.785714285714286, 7.8], 'katherine st. asaph': [4.0, 6.636538461538464, 8.6], 'andy beta': [2.5, 7.468800000000003, 10.0], 'ian cohen': [0.2, 6.3539341917024315, 10.0], 'marc masters': [4.3, 7.4689102564102585, 9.8], 'sheldon pearce': [4.4, 6.950877192982455, 8.6], 'thea ballard': [6.2, 7.263636363636365, 8.2], 'marcus j. moore': [3.5, 7.162790697674417, 9.4], 'dean van nguyen': [5.0, 6.923076923076922, 8.7], 'louis pattison': [6.0, 7.173684210526316, 8.5], 'philip sherburne': [4.0, 7.565550239234451, 9.7], 'benjamin scheim': [5.9, 7.217241379310345, 8.5], 'rebecca haithcoat': [4.8, 6.777777777777779, 8.4], 'sam sodomsky': [5.3, 7.292857142857143, 8.5], 'seth colter walls': [4.5, 7.724137931034484, 9.1], 'brian howe': [2.8, 7.057600000000014, 9.6], 'marc hogan': [0.9, 6.604100227790439, 9.2], 'quinn moreland': [6.5, 7.531249999999999, 8.6], 'seth colter-walls': [9.0, 9.0, 9.0], 'savy reyes-kulkarni': [7.7, 7.7, 7.7], 'renato pagnani': [6.0, 6.913636363636363, 7.7], 'matthew strauss': [5.0, 6.586666666666668, 7.5], 'david turner': [5.0, 6.671428571428572, 7.5], 'matthew ramirez': [4.0, 6.393103448275861, 8.5], 'jesse jarnow': [7.1, 8.190909090909091, 10.0], 'andrew gaerig': [2.9, 6.882222222222224, 8.8], 'paul a. thompson': [6.2, 7.310526315789476, 8.0], 'nathan reese': [4.9, 6.964705882352941, 8.0], 'ryan dombal': [2.5, 6.964367816091956, 10.0], 'jayson greene': [1.0, 7.106354515050167, 10.0], 'cameron cook': [5.8, 7.085714285714289, 8.4], 'saby reyes-kulkarni': [4.0, 7.164814814814816, 8.9], 'mehan jayasuriya': [4.7, 6.515384615384617, 8.0], 'ben scheim': [7.5, 7.65, 7.8], 'stuart berman': [1.0, 7.089213483146059, 10.0], 'israel daramola': [3.9, 6.872727272727274, 8.0], 'evan rytlewski': [4.4, 6.515094339622642, 8.4], 'daniel martin-mccormick': [4.9, 6.333333333333333, 7.2], 'jay balfour': [4.9, 6.7368421052631575, 8.8], 'drew gaerig': [7.4, 7.4, 7.4], 'mark richardson': [1.0, 7.57857142857143, 10.0], 'paul thompson': [2.8, 6.668018018018014, 10.0], 'edwin \"stats\" houghton': [6.5, 6.5, 6.5], 'laura snapes': [2.6, 6.9865384615384585, 10.0], 'eric harvey': [1.5, 6.580882352941175, 9.5], 'brad nelson': [5.1, 7.2714285714285705, 8.8], 'jonathan bernstein': [7.7, 7.866666666666667, 8.0], 'caryn rose': [8.0, 8.0, 8.0], 'jes skolnik': [6.8, 7.264999999999999, 7.9], 'miles raymer': [3.9, 7.117475728155338, 9.0], 'nina mashurova': [6.6, 7.199999999999999, 7.8], 'dorian lynskey': [9.5, 9.5, 9.5], 'jonathan patrick': [6.5, 7.35, 8.2], 'kris ex': [5.0, 7.680000000000001, 10.0], 'mike powell': [3.5, 7.327499999999999, 10.0], 'brian burlage': [7.1, 7.25, 7.4], 'john s.w. macdonald': [5.9, 6.633333333333333, 7.0], 'saby reyes kulkarni': [6.8, 6.8, 6.8], 'raymond cummings': [6.9, 7.442857142857142, 8.2], 'evan minsker': [4.5, 7.022999999999997, 9.1], 'marcus k. dowling': [7.0, 7.1499999999999995, 7.2], 'ryan leas': [4.5, 6.55, 7.9], 'simon goddard': [8.6, 8.6, 8.6], 'matthew grosinger': [6.0, 6.65, 7.3], 'edwin stats houghton': [7.9, 7.9, 7.9], 'stephen thomas erlewine': [6.5, 8.318181818181818, 10.0], 'matthew ismael ruiz': [6.9, 7.5, 8.1], 'michael j. agovino': [7.5, 7.95, 8.4], 'simon reynolds': [8.0, 8.85, 10.0], \"andy o'connor\": [5.5, 7.385074626865668, 8.5], 'douglas wolk': [1.3, 6.673437500000001, 10.0], 'alexander iadarola': [7.5, 7.5, 7.5], 'minna zhou': [5.8, 7.08, 8.0], 'colin joyce': [5.9, 7.092000000000001, 7.8], 'amanda petrusich': [2.9, 7.371500000000002, 10.0], 'stacey anderson': [2.5, 6.418181818181818, 8.5], 'stephen m. deusner': [0.2, 6.972413793103449, 10.0], 'claire lobenfeld': [5.4, 6.56, 7.4], 'jillian mapes': [5.9, 7.533333333333334, 8.5], 'jonah bromwich': [3.6, 6.866666666666669, 8.7], 'winston cook-wilson': [6.3, 7.331818181818181, 9.3], 'julianne escobedo shepherd': [2.9, 6.951351351351351, 9.0], 'jason heller': [4.2, 7.152678571428572, 9.2], 'steven hyden': [4.0, 6.6818181818181825, 9.2], 'daphne a. brooks': [9.0, 9.2, 9.4], 'piotr orlov': [6.1, 7.166666666666667, 7.8], 'chris randle': [4.0, 6.45, 7.8], 'erin macleod': [7.0, 7.800000000000001, 8.1], 'grayson haver currin': [3.0, 7.3911764705882375, 8.8], 'judy berman': [7.6, 7.6, 7.6], 'rob mitchum': [0.4, 6.392883895131084, 10.0], 'pat healy': [4.9, 6.611111111111111, 8.2], 'patrick st. michel': [6.0, 7.069565217391306, 8.8], 'alan light': [8.8, 9.4, 10.0], 'matthew schnipper': [5.3, 7.133333333333334, 8.3], 'jazz monroe': [4.9, 6.731578947368423, 7.9], 'jeff weiss': [6.7, 8.1125, 10.0], 'jeremy gordon': [3.5, 6.999999999999998, 8.5], 'carvell wallace': [9.5, 9.833333333333334, 10.0], 'david drake': [4.5, 7.38939393939394, 9.0], 'kathy iandoli': [5.1, 6.555555555555555, 7.8], 'andrew nosnitsky': [9.1, 9.1, 9.1], 'brendan mattox': [6.8, 6.8, 6.8], 'abigail covington': [6.5, 7.05, 7.6], 'allison hussey': [3.8, 6.584615384615385, 7.9], 'kevin lozano ': [6.9, 6.9, 6.9], 'rohan samarth': [7.4, 7.4, 7.4], 't. cole rachel': [5.7, 7.123076923076922, 8.5], 'jia tolentino': [2.5, 6.188888888888888, 7.8], 'barry walters': [7.5, 8.866666666666667, 10.0], 'patric fallon': [5.0, 6.779999999999999, 8.0], 'aaron leitko': [3.9, 7.197938144329896, 8.8], 'brandon stosuy': [2.8, 7.495862068965521, 9.3], 'philip sherburne ': [8.2, 8.2, 8.2], 'lindsay hood': [5.0, 6.425000000000001, 7.1], 'nelson george': [10.0, 10.0, 10.0], 'maura johnston': [10.0, 10.0, 10.0], 'timmhotep aku': [7.1, 7.1, 7.1], 'amanda petrusich ': [9.0, 9.0, 9.0], 'corban goble': [4.0, 6.726923076923076, 8.0], 'ron hart': [6.5, 7.38, 8.0], 'britt julious': [6.5, 7.444444444444445, 7.9], 'robert ham': [6.7, 6.95, 7.2], 'craig jenkins': [4.0, 7.245283018867925, 10.0], 'maria sherman': [7.0, 7.0, 7.0], 'sean t. collins': [8.1, 8.1, 8.1], 'andy emitt': [7.5, 7.65, 7.8], 'sam lefebvre': [6.1, 7.223076923076922, 7.8], 'sheldon pearce ': [6.8, 6.8, 6.8], 'kris ex ': [8.6, 8.6, 8.6], 'ilana kaplan': [6.8, 6.949999999999999, 7.1], 'minna zhou ': [7.4, 7.4, 7.4], 'estelle tang': [6.7, 6.8999999999999995, 7.0], 'ernest wilkins': [4.9, 6.628571428571428, 7.5], 'nina corcoran': [6.8, 7.316666666666666, 7.9], 'julian kimble': [6.1, 6.9799999999999995, 7.9], 'sarah sahim': [4.9, 6.3999999999999995, 7.2], 'sam hockley-smith': [5.8, 7.142857142857143, 8.6], 'mosi reeves': [6.3, 6.933333333333333, 7.5], 'hazel cills': [5.9, 7.017647058823529, 8.6], 'eric torres': [5.5, 6.8999999999999995, 7.5], 'christine kakaire': [6.5, 6.5, 6.5], 'molly beauchemin': [6.2, 6.68, 7.0], 'tom ewing': [2.3, 7.373170731707316, 10.0], 'j. edward keyes': [6.0, 7.362500000000001, 8.2], 'meaghan garvey': [3.0, 7.135135135135135, 8.4], 'anupa mistry': [6.8, 7.721428571428571, 8.9], 'max mertens': [6.8, 7.3, 7.8], 'jessica hopper': [4.5, 7.307142857142858, 10.0], 'leor galil': [7.3, 7.3, 7.3], 'tayler montague': [7.3, 7.3, 7.3], 'puja patel': [5.0, 6.55, 7.8], 'abby garnett': [6.4, 7.019999999999999, 7.6], 'felipe delerme': [6.9, 7.375, 8.0], 'joel oliphint': [4.9, 6.746153846153845, 7.8], 'jakob dorof': [7.8, 8.15, 8.5], 'sasha geffen': [5.8, 6.9523809523809526, 8.3], 'corbin reiff': [6.4, 7.35, 7.8], 'zach kelly': [3.7, 6.601307189542485, 8.5], 'nick neyland': [4.6, 6.844075829383889, 9.2], 'john everhart': [7.1, 7.1, 7.1], 'andrew ryce': [4.0, 7.018965517241378, 8.7], 'abigail garnett': [6.2, 7.175, 7.8], 'jonathan zwickel': [4.2, 7.338297872340425, 9.0], 'ned raggett': [6.7, 7.720833333333334, 9.0], 'tess duncan': [6.6, 7.071428571428572, 7.6], 'safy-hallan farah': [6.8, 7.133333333333333, 7.5], \"andy o' connor\": [7.3, 7.3, 7.3], 'maud deitch': [2.0, 5.74, 7.6], 'hannah giorgis': [7.7, 7.7, 7.7], 'clayton purdom': [5.5, 6.76, 7.3], 'tim finney': [5.7, 7.406741573033709, 8.9], 'b. david zarley': [6.4, 6.65, 6.9], 'matthew murphy': [3.7, 7.270072992700732, 9.5], 'jonathan k. dick': [7.4, 7.766666666666667, 8.0], 'jeremy d. larson': [3.2, 6.903030303030304, 8.0], 'jamieson cox': [4.8, 6.845238095238095, 8.6], 'liz pelly': [7.0, 7.366666666666667, 7.6], 'joe tangari': [2.1, 7.3739608801955985, 10.0], 'rawiya kameir': [5.3, 5.3, 5.3], 'mark pytlik': [2.6, 6.980188679245281, 9.3], 'jordan sargent': [1.0, 6.486440677966103, 8.2], 'lawrence burney': [6.0, 6.7, 7.3], 'melody lau': [6.1, 6.6, 7.1], 'jake cleland': [4.3, 6.966666666666666, 7.8], 'martin douglas': [5.3, 7.147826086956522, 8.1], 'devon maloney': [6.0, 7.036363636363637, 7.6], 'vish khanna': [7.4, 7.550000000000001, 7.7], 'larry fitzmaurice': [2.0, 6.975115207373274, 9.1], 'kim kelly': [5.5, 7.283870967741935, 8.4], 'carrie battan': [3.0, 6.903333333333333, 8.8], 'matt lemay': [0.0, 7.308163265306124, 10.0], 'stephen deusner': [4.9, 6.95625, 9.3], 'paula mejia': [7.2, 7.4, 7.6], 'lindsay zoladz': [4.3, 7.337606837606841, 9.2], 'harley brown': [4.8, 6.567857142857142, 7.5], 'kyle kramer': [5.1, 6.561538461538461, 7.6], 'jessica suarez': [5.2, 7.152631578947367, 8.3], 'gabriel szatan': [4.5, 6.716666666666666, 7.7], 'colin st. john': [5.5, 6.466666666666666, 7.2], 'hank shteamer': [4.9, 7.700000000000001, 9.0], 'grayson currin': [2.0, 7.045328719723182, 10.0], 'angus finlayson': [5.9, 7.276923076923077, 8.1], 'ruth saxelby': [6.0, 7.486666666666666, 8.0], 'jeremy larson': [6.4, 6.4, 6.4], 'patrick bowman': [5.5, 6.4750000000000005, 7.5], 'mike madden': [5.5, 6.7375, 7.6], 'rachael maddux': [5.1, 7.1850000000000005, 8.5], 'lisa blanning': [7.0, 7.1, 7.2], 'katherine st asaph': [6.0, 6.45, 6.9], 'hari ashurst': [1.8, 6.691891891891893, 8.2], 'jess harvell': [3.8, 7.084981684981691, 10.0], 'emilie friedlander': [6.7, 7.1125, 7.8], 'joe colly': [1.4, 6.938532110091745, 9.0], 'matthew perpetua': [2.0, 6.67, 10.0], 'josh love': [6.0, 7.0, 7.6], 'eric grandy': [4.2, 6.5562499999999995, 8.8], 'brandon soderberg': [3.8, 7.333333333333333, 8.3], 'david raposa': [2.5, 6.527096774193547, 9.6], 'b michael payne': [7.7, 7.7, 7.7], 'matthew solarski': [6.0, 7.2681818181818185, 8.3], 'drew daniel': [8.6, 8.6, 8.6], 'joshua love': [2.0, 6.3420560747663535, 9.1], 'rob harvilla': [5.3, 6.733333333333333, 7.5], 'sean fennessy': [8.3, 8.3, 8.3], 'tom breihan': [1.6, 6.746634615384614, 9.5], 'david bevan': [4.0, 7.219999999999999, 9.5], 'david bevan ': [5.9, 7.226315789473685, 8.5], 'scott plagenhoef': [3.3, 7.669105691056908, 10.0], 'sean fennessey': [2.4, 6.9423728813559284, 9.5], 'dominique leone': [3.0, 7.495604395604393, 10.0], 'finn cohen': [7.3, 7.3, 7.3], 'patrick sisson': [4.5, 6.753846153846153, 8.0], 'tal rosenberg': [4.6, 7.107692307692307, 8.5], 'andy battaglia': [4.5, 7.564864864864862, 9.0], 'rebecca raber': [4.8, 6.8928571428571415, 8.5], 'amy granzin': [4.8, 7.067924528301887, 10.0], 'joshua klein': [2.7, 6.700921658986177, 10.0], 'liz colville': [1.5, 6.343396226415097, 8.6], 'patrick sisson ': [6.9, 6.9, 6.9], 'nate patrin ': [5.6, 5.6, 5.6], 'nitsuh abebe': [3.4, 7.363194444444442, 10.0], 'jason crock': [2.0, 6.839629629629626, 8.6], 'chris dahlen': [0.0, 7.354672897196267, 10.0], 'mike orme': [4.5, 6.861111111111112, 8.5], 'leonard pierce': [7.1, 7.4, 7.7], 'jonathan garrett': [3.6, 6.028571428571429, 8.2], 'stephen trouss': [5.0, 7.136842105263158, 8.7], 'cosmo lee': [4.3, 7.127659574468085, 8.5], 'martin clark': [8.5, 8.5, 8.5], 'adam moerder': [1.5, 6.151674641148325, 8.5], 'mia clarke': [4.5, 7.361538461538462, 8.3], 'roque strew': [4.1, 7.091111111111108, 8.5], 'mike mcgonigal': [6.8, 7.953846153846153, 8.6], 'adrienne day': [6.2, 6.2, 6.2], 'd. shawn bosler': [6.8, 7.48888888888889, 8.6], 'kasia galazka': [5.0, 5.725, 6.9], 'bob stanley': [7.2, 7.2, 7.2], 'evan mcgarvey': [2.4, 5.740909090909091, 7.7], 'ben westhoff': [5.0, 6.5181818181818185, 8.0], 'mia lily clarke': [6.2, 7.28888888888889, 8.4], 'zach baron': [4.4, 6.8752808988764045, 9.3], 'william bowers': [2.1, 7.010852713178294, 9.1], 'robbie mackey': [4.4, 6.199999999999999, 8.3], 'sam eccleston': [5.8, 7.450000000000001, 9.0], 'sam chennault': [2.2, 7.069565217391306, 9.1], 'ryan schreiber': [0.6, 7.06588235294118, 9.5], 'sara sherr': [6.5, 7.0, 7.5], 'stosh \"piz\" piznarski': [7.7, 7.7, 7.7], 'carl wilson': [8.5, 8.5, 8.5], 'alex lindhart': [7.9, 7.9, 7.9], 'dave stelfox': [6.8, 7.825, 9.2], 'nick mirov': [2.4, 6.91764705882353, 9.0], 'peter macia': [0.6, 6.770000000000001, 8.8], 'cory d. byrom': [1.5, 6.507936507936509, 8.2], 'john motley': [5.0, 6.712121212121215, 8.4], 'alex linhardt': [2.0, 7.616666666666666, 9.7], 'judson picco': [0.8, 5.985714285714286, 7.6], 'rachel khong': [5.0, 6.650000000000001, 8.3], 'ray suzuki': [0.0, 4.85, 9.7], 'mark richard-san': [2.5, 7.257777777777777, 9.6], 'sam ubl': [2.0, 6.8999999999999995, 8.7], 'chip chanko': [5.5, 7.56923076923077, 8.9], 'cory byrom': [4.4, 6.36, 8.5], 'will dukes': [5.7, 6.900000000000001, 7.9], 'michael idov': [0.8, 6.138888888888888, 8.7], 'brent s. sirota': [3.9, 8.016666666666666, 10.0], 'nick sylvester': [0.5, 6.656799999999999, 9.0], 'amy phillips': [2.0, 6.0, 8.5], 'johnny loftus': [1.9, 6.631914893617022, 8.5], 'austin gaines': [4.9, 6.814285714285714, 8.0], 'jeff leven': [6.8, 7.25, 7.7], 'jamin warren': [5.0, 7.188, 8.6], 'brian howe & brandon stosuy': [7.4, 7.4, 7.4], 'stephen  m. deusner': [3.8, 3.8, 3.8], 'cameron macdonald': [4.9, 7.222413793103449, 8.9], 'eric carr': [0.0, 6.682031249999997, 10.0], 'stephen m. duesner': [7.8, 7.8, 7.8], 'isaiah violante': [3.4, 7.3, 8.8], 'malcolm seymour iii': [2.0, 6.09, 9.4], 'david moore': [3.9, 6.846428571428571, 9.7], 'derek miller': [4.2, 6.873684210526317, 8.3], 'mark richard-san & ryan schreiber': [6.1, 6.1, 6.1], 'liam singer': [5.3, 7.7178571428571425, 9.3], 'natalie moore': [5.7, 5.7, 5.7], 'jason josephes': [5.5, 7.416666666666667, 9.3], 'nathan humpal': [7.5, 7.5, 7.5], 'andrew bryant': [2.7, 6.696969696969698, 9.5], 'zach vowell': [7.1, 7.1, 7.1], 'andrew lehman': [6.0, 6.0, 6.0], 'j.h. tompkins': [7.8, 8.5, 9.5], 'neil robertson': [3.7, 6.483333333333334, 8.3], 'camilo arturo leslie': [4.8, 6.946666666666667, 8.5], 'stephen may': [6.5, 6.5, 6.5], 'catherine lewis': [3.7, 4.8, 5.9], 'dan lett': [6.0, 7.13846153846154, 8.3], 'rollie pemberton': [2.1, 6.683018867924527, 9.2], 'james p. wisdom': [3.7, 7.173333333333333, 10.0], 'brent dicrescenzo': [0.0, 6.163440860215054, 10.0], 'mark richardson & nick sylvester': [7.3, 7.3, 7.3], 'loren ludwig & jascha hoffman': [8.4, 8.4, 8.4], 'andy beta, brandon stosuy & mark richardson': [7.8, 7.8, 7.8], 'jedediah gilchrist': [3.2, 4.666666666666667, 6.2], 'philip shelley': [6.5, 7.533333333333334, 8.5], 'chris weber': [7.4, 7.8, 8.2], 'christopher sebela': [2.3, 5.033333333333333, 6.9], 'rollie pemberton & nick sylvester': [9.4, 9.4, 9.4], 'christopher weber': [5.5, 5.5, 5.5], 'jt ramsay': [5.0, 6.25, 7.5], 'hartley goldstein': [3.1, 6.820000000000001, 8.8], 'chris drabick': [3.0, 5.0, 7.0], 'j. wasserman': [8.0, 8.0, 8.0], 'william morris': [3.0, 6.470967741935485, 8.3], 'chris dahlen, dominique leone & joe tangari': [8.1, 8.1, 8.1], 'p.j. gallagher': [8.0, 8.0, 8.0], 'dan miron': [7.7, 7.7, 7.7], 'pj gallagher': [7.5, 7.5, 7.5], 'jascha hoffman': [1.7, 6.8999999999999995, 9.1], 'casey rea': [7.9, 7.9, 7.9], 'philip welsh': [8.6, 8.6, 8.6], 'alan smithee': [4.0, 4.0, 4.0], 'andy linhardt': [7.0, 7.0, 7.0], \"john o'connor\": [3.0, 5.357142857142857, 7.4], 'the pitchfork staff': [8.0, 8.0, 8.0], 'noah sutcliffe': [3.7, 5.300000000000001, 6.9], 'choppa moussaoui, with help from mullah omar, ethan p, and ': [5.1, 5.1, 5.1], 'alexander lloyd linhardt': [3.1, 7.458823529411765, 9.7], 'craig rostron': [8.0, 8.0, 8.0], 'nicholas b. sylvester': [3.0, 6.808333333333333, 8.7], 'bob o. mcmillan': [3.5, 3.5, 3.5], 'brad hurst': [6.3, 7.485714285714287, 8.3], 'stephen haag': [6.1, 7.05, 8.0], 'bill morris': [5.2, 5.65, 6.1], 'scott hreha': [3.4, 7.438461538461539, 8.9], 'mark martelli': [1.1, 6.1968749999999995, 9.0], 'dr. andy beta': [3.3, 3.3, 3.3], 'matt kallman': [5.1, 7.1499999999999995, 8.2], 'daniel crumb': [7.2, 7.2, 7.2], 'brendan reid': [3.5, 6.851724137931035, 9.0], 'will bryant': [2.6, 6.058333333333333, 8.4], 'oliver lache': [5.6, 5.6, 5.6], 'brian james': [2.0, 6.023809523809524, 9.5], 'matt stephens': [2.6, 5.166666666666666, 8.2], 'matthew stephens': [7.9, 8.15, 8.4], 'kim shannon': [6.7, 7.26, 8.1], 'kim fing shannon': [5.9, 5.9, 5.9], 'kyle reiter': [2.9, 5.875, 9.0], 'matthew wellins': [3.3, 5.58, 7.2], 'matt wellins': [8.7, 8.7, 8.7], 'brad haywood': [0.6, 6.652173913043479, 9.0], 'david m. pecoraro': [2.6, 7.18627450980392, 9.4], 'paul cooper': [2.2, 6.815833333333336, 9.5], 'jason nickey': [1.9, 6.616923076923078, 9.5], 'chris dahlen & ryan schreiber': [1.7, 1.7, 1.7], 'jesse fahnestock': [5.7, 6.15, 6.6], 'ryan kearney': [0.4, 6.704347826086957, 9.6], 'kevin adickes': [2.8, 6.423333333333334, 9.2], 'christopher dare': [2.7, 7.206451612903226, 9.0], 'christopher f. schiel': [3.5, 7.2, 8.7], 'mike bernstein': [8.2, 8.4, 8.5], 'alison fields': [0.1, 5.8108695652173905, 8.9], 'brandon wall': [7.9, 7.9, 7.9], 'meg zamula': [5.8, 6.885714285714285, 8.0], 'keith brasel': [7.0, 7.0, 7.0], 'michael bernstein': [6.0, 7.65, 8.9], 'ethan p.': [4.1, 7.4, 9.1], 'ryan schreiber & alison fields': [7.7, 7.7, 7.7], 'zach hooker': [3.6, 7.300000000000001, 9.5], 'brock kappers': [7.5, 7.5, 7.5], 'brad haywood & ryan schreiber': [3.1, 3.1, 3.1], 'nathan rooney': [4.2, 6.915384615384616, 9.0], 'john dark': [2.6, 6.408, 8.7], 'luke buckman': [5.0, 8.200000000000001, 10.0], 'daphne carr': [6.2, 7.5, 8.4], 'andi rowlands': [8.0, 8.25, 8.5], 'dan kilian': [2.7, 7.085714285714287, 8.7], 'kristin sage rockermann': [3.8, 6.206249999999999, 8.5], 'adam dlugacz': [6.3, 6.3, 6.3], 'spencer owen': [2.0, 6.974074074074075, 9.5], 'dan kilian & ryan schreiber': [9.0, 9.0, 9.0], 'jonny pietin': [6.0, 6.55, 7.1], 'richard m. juzwiak': [2.2, 6.504761904761906, 8.6], 'samir khan': [4.2, 6.650000000000001, 10.0], 'kristin sage rockermann & chip chanko': [8.5, 8.5, 8.5], 'edward howard': [6.7, 6.7, 6.7], 'd. erik kempke': [1.5, 6.600000000000001, 8.7], 'michael sandlin': [0.3, 5.7368421052631575, 8.6], 'steven byrd': [0.2, 5.6625, 9.0], 's. murray': [5.0, 7.141666666666666, 8.3], 'al shipley': [3.8, 5.999999999999999, 7.5], 'craig griffith': [3.5, 5.825, 7.2], 'michael wartenbe': [7.6, 7.6, 7.6], 'andrew goldman': [6.9, 7.65, 8.7], 'hefner macauley': [7.8, 8.35, 8.9], 'pete nicholson': [7.0, 7.65, 8.3], 'taylor m. clark': [5.4, 7.076923076923076, 9.1], 'beatty & garrett': [1.5, 5.685714285714285, 8.3], 'adam ohler': [4.2, 4.2, 4.2], 'dan gardopee': [6.8, 7.399999999999999, 7.9], 'shan fowler': [5.8, 6.666666666666667, 7.4], 'jeremy schneyer': [6.0, 7.271428571428571, 8.1], 'yancey strickler': [6.2, 7.1, 8.0], 'neil lieberman': [4.0, 6.527272727272727, 9.4], 'jared bane': [7.1, 7.1, 7.1], 'zach hammerman': [7.5, 7.5, 7.5], 'sarah zupko': [4.9, 7.6000000000000005, 9.0], 'bruce tiffee': [8.1, 8.1, 8.1]}\n"
     ]
    }
   ],
   "source": [
    "scoredict={}\n",
    "for i in df['author'].unique():\n",
    "    mx=max(df.groupby('author')['score'].apply(list).loc[i])\n",
    "    small=min((df.groupby('author')['score'].apply(list).loc[i]))\n",
    "    med=sum((df.groupby('author')['score'].apply(list).loc[i]))/len((df.groupby('author')['score'].apply(list).loc[i]))\n",
    "    scoredict[i]=[small, med, mx]\n",
    "\n",
    "print(scoredict)"
   ]
  },
  {
   "cell_type": "code",
   "execution_count": 12,
   "metadata": {},
   "outputs": [],
   "source": [
    "from nltk.corpus import stopwords\n",
    "from nltk.tokenize import word_tokenize\n",
    "from nltk.stem.porter import PorterStemmer\n",
    "from nltk.stem.snowball import SnowballStemmer\n",
    "from nltk.stem.wordnet import WordNetLemmatizer\n",
    "from nltk import pos_tag\n",
    "\n",
    "from sklearn.feature_extraction.text import CountVectorizer, TfidfVectorizer\n",
    "from sklearn.metrics.pairwise import linear_kernel\n",
    "from sklearn.model_selection import train_test_split\n",
    "from sklearn.naive_bayes import GaussianNB\n"
   ]
  },
  {
   "cell_type": "code",
   "execution_count": 42,
   "metadata": {},
   "outputs": [
    {
     "name": "stdout",
     "output_type": "stream",
     "text": [
      "['andy beta', 'mark richardson', 'matt lemay', 'rob mitchum', 'joe tangari', 'amanda petrusich', 'julianne escobedo shepherd', 'brandon stosuy', 'philip sherburne', 'brian howe']\n",
      "['joe tangari', 'stephen m. deusner', 'ian cohen', 'brian howe', 'mark richardson', 'stuart berman', 'marc hogan', 'nate patrin', 'marc masters', 'jayson greene']\n"
     ]
    }
   ],
   "source": [
    "print(Time)\n",
    "print(prolific)\n",
    "    "
   ]
  },
  {
   "cell_type": "code",
   "execution_count": 52,
   "metadata": {},
   "outputs": [],
   "source": [
    "y=df['author']\n",
    "atm = (y=='andy beta')| (y== 'mark richardson')| (y==  'matt lemay')| (y==  'rob mitchum')| (y==  'joe tangari')| (y==  'amanda petrusich')| (y==  'julianne escobedo shepherd')|(y==  'brandon stosuy')| (y==  'philip sherburne')| (y==  'brian howe')\n",
    "apm = (y=='joe tangari')| (y== 'stephen m. deusner')| (y== 'ian cohen')| (y== 'brian howe')| (y== 'mark richardson')| (y== 'stuart berman')| (y== 'marc hogan')| (y== 'nate patrin')| (y== 'marc masters')| (y== 'jayson greene')\n",
    "df_t = df[atm]\n",
    "df_p = df[apm]\n",
    "\n",
    "X_train,X_test,y_train,y_test = train_test_split(df_t['content'],df_t['best_new_music'],test_size=0.2)"
   ]
  },
  {
   "cell_type": "code",
   "execution_count": 45,
   "metadata": {},
   "outputs": [],
   "source": [
    "\n",
    "vectorizer = TfidfVectorizer(stop_words='english')\n",
    "vectorizer.fit(X_train)\n",
    "X_vec = vectorizer.transform(X_train).toarray()"
   ]
  },
  {
   "cell_type": "code",
   "execution_count": 47,
   "metadata": {},
   "outputs": [
    {
     "name": "stdout",
     "output_type": "stream",
     "text": [
      "(53945,)\n"
     ]
    },
    {
     "data": {
      "text/plain": [
       "array(['like', 'music', 'album', 'band', 'songs', 'sound', 'song',\n",
       "       'guitar', 'record', 'rock'], dtype='<U57')"
      ]
     },
     "execution_count": 47,
     "metadata": {},
     "output_type": "execute_result"
    }
   ],
   "source": [
    "vocab = np.array(vectorizer.get_feature_names())\n",
    "print(vocab.shape)\n",
    "vocab[-5:]\n",
    "\n",
    "sorted_idx = np.argsort(np.sum(X_vec, axis=0))[::-1]\n",
    "vocab[sorted_idx[:10]]"
   ]
  },
  {
   "cell_type": "code",
   "execution_count": 49,
   "metadata": {},
   "outputs": [
    {
     "data": {
      "text/plain": [
       "array(['onyeabor', 'hemphill', 'dylan', 'music', 'jones', 'white',\n",
       "       'cross', 'forrest', 'live', 'pajo'], dtype='<U30')"
      ]
     },
     "execution_count": 49,
     "metadata": {},
     "output_type": "execute_result"
    }
   ],
   "source": [
    "vectorizer = TfidfVectorizer(stop_words='english', use_idf=False)\n",
    "vectorizer.fit(X_test)\n",
    "vocab = np.array(vectorizer.get_feature_names())\n",
    "X_vec = vectorizer.transform(X_test).toarray()\n",
    "sorted_idx = np.argsort(np.max(X_vec, axis=0))[::-1]\n",
    "vocab[sorted_idx[:10]]"
   ]
  },
  {
   "cell_type": "code",
   "execution_count": 56,
   "metadata": {},
   "outputs": [
    {
     "name": "stdout",
     "output_type": "stream",
     "text": [
      "(63231,)\n",
      "['über' 'ür' 'þú' 'čapek' 'край']\n",
      "['mccartney' 'burma' 'morrissey' 'beep' 'adams' 'smoke' 'cohen' 'black'\n",
      " 'hecker' 'station']\n"
     ]
    }
   ],
   "source": [
    "X_train,X_test,y_train,y_test = train_test_split(df_p['content'],df_p['best_new_music'],test_size=0.2)\n",
    "\n",
    "vectorizer = TfidfVectorizer(stop_words='english')\n",
    "vectorizer.fit(X_train)\n",
    "X_vec = vectorizer.transform(X_train).toarray()\n",
    "\n",
    "vocab = np.array(vectorizer.get_feature_names())\n",
    "print(vocab.shape)\n",
    "print(vocab[-5:])\n",
    "\n",
    "sorted_idx = np.argsort(np.sum(X_vec, axis=0))[::-1]\n",
    "vocab[sorted_idx[:10]]\n",
    "vectorizer = TfidfVectorizer(stop_words='english', use_idf=False)\n",
    "vectorizer.fit(X_test)\n",
    "vocab = np.array(vectorizer.get_feature_names())\n",
    "X_vec = vectorizer.transform(X_test).toarray()\n",
    "sorted_idx = np.argsort(np.max(X_vec, axis=0))[::-1]\n",
    "print(vocab[sorted_idx[:10]])"
   ]
  },
  {
   "cell_type": "code",
   "execution_count": 59,
   "metadata": {},
   "outputs": [
    {
     "data": {
      "text/plain": [
       "15531    There's hardly a bolder statement you could ma...\n",
       "13764    It may be hard to believe in these days of Arc...\n",
       "14417    The box-office nosedive of The Real Cancun-- a...\n",
       "9113     Rapping is easy; releasing records is hard. Th...\n",
       "10598    \\nLive at the Avalon\\r\\n    Ballroom is the ro...\n",
       "                               ...                        \n",
       "11548    \\r\\n    The post-Is This It\\r\\n    homogenizat...\n",
       "5594     Brooklyn sonic alchemists Black Dice are one o...\n",
       "13672    In the United States, French composer Yann Tie...\n",
       "13048    Are the Pixies still the Pixies?  The four mus...\n",
       "3365     Drive-By Truckers don’t owe us shit. They’ve n...\n",
       "Name: content, Length: 1012, dtype: object"
      ]
     },
     "execution_count": 59,
     "metadata": {},
     "output_type": "execute_result"
    }
   ],
   "source": [
    "X_test"
   ]
  },
  {
   "cell_type": "code",
   "execution_count": 66,
   "metadata": {},
   "outputs": [],
   "source": [
    "top_10s = []\n",
    "for i in prolific:\n",
    "    maski = (y==i)\n",
    "    X = df[maski]\n",
    "    vec_i = TfidfVectorizer(stop_words='english')\n",
    "    X_vec_i = vec_i.fit_transform(X['content']).toarray()\n",
    "    vocab = np.array(vec_i.get_feature_names())\n",
    "    sorted_idx = np.argsort(np.mean(X_vec_i, axis=0))[::-1]\n",
    "    top_10s.append(list(vocab[sorted_idx[1:11]]))"
   ]
  },
  {
   "cell_type": "code",
   "execution_count": 68,
   "metadata": {},
   "outputs": [
    {
     "data": {
      "text/plain": [
       "[['album',\n",
       "  'like',\n",
       "  'music',\n",
       "  'song',\n",
       "  'guitar',\n",
       "  'songs',\n",
       "  'sound',\n",
       "  'just',\n",
       "  'rock',\n",
       "  'time'],\n",
       " ['songs',\n",
       "  'album',\n",
       "  'band',\n",
       "  'song',\n",
       "  'sound',\n",
       "  'sounds',\n",
       "  'music',\n",
       "  'new',\n",
       "  'rock',\n",
       "  'just'],\n",
       " ['band',\n",
       "  'just',\n",
       "  'rock',\n",
       "  'album',\n",
       "  'record',\n",
       "  'time',\n",
       "  'sound',\n",
       "  'pop',\n",
       "  'music',\n",
       "  'songs'],\n",
       " ['music',\n",
       "  'album',\n",
       "  'rock',\n",
       "  'songs',\n",
       "  'band',\n",
       "  'guitar',\n",
       "  'pop',\n",
       "  'record',\n",
       "  'sound',\n",
       "  'piano'],\n",
       " ['like',\n",
       "  'sound',\n",
       "  'album',\n",
       "  'songs',\n",
       "  'record',\n",
       "  'tracks',\n",
       "  'band',\n",
       "  'sounds',\n",
       "  'guitar',\n",
       "  'song'],\n",
       " ['like',\n",
       "  'album',\n",
       "  'rock',\n",
       "  'song',\n",
       "  'pop',\n",
       "  'songs',\n",
       "  'new',\n",
       "  'just',\n",
       "  'time',\n",
       "  'music'],\n",
       " ['pop',\n",
       "  'album',\n",
       "  'love',\n",
       "  'band',\n",
       "  'songs',\n",
       "  'song',\n",
       "  'just',\n",
       "  'new',\n",
       "  'rock',\n",
       "  'guitar'],\n",
       " ['album',\n",
       "  'music',\n",
       "  'just',\n",
       "  'way',\n",
       "  'sound',\n",
       "  'tracks',\n",
       "  'funk',\n",
       "  'track',\n",
       "  'time',\n",
       "  'rap'],\n",
       " ['music',\n",
       "  'album',\n",
       "  'band',\n",
       "  'sound',\n",
       "  'sounds',\n",
       "  'songs',\n",
       "  'noise',\n",
       "  'guitar',\n",
       "  'track',\n",
       "  'way'],\n",
       " ['music',\n",
       "  'album',\n",
       "  'song',\n",
       "  'rap',\n",
       "  'songs',\n",
       "  'time',\n",
       "  'band',\n",
       "  'just',\n",
       "  'sound',\n",
       "  'sounds']]"
      ]
     },
     "execution_count": 68,
     "metadata": {},
     "output_type": "execute_result"
    }
   ],
   "source": [
    "top_10s"
   ]
  },
  {
   "cell_type": "code",
   "execution_count": 96,
   "metadata": {},
   "outputs": [
    {
     "name": "stderr",
     "output_type": "stream",
     "text": [
      "/home/spsabin/anaconda3/lib/python3.7/site-packages/sklearn/feature_extraction/text.py:484: UserWarning: The parameter 'token_pattern' will not be used since 'tokenizer' is not None'\n",
      "  warnings.warn(\"The parameter 'token_pattern' will not be used\"\n",
      "/home/spsabin/anaconda3/lib/python3.7/site-packages/sklearn/decomposition/_nmf.py:1077: ConvergenceWarning: Maximum number of iterations 100 reached. Increase it to improve convergence.\n",
      "  \" improve convergence.\" % max_iter, ConvergenceWarning)\n"
     ]
    },
    {
     "name": "stdout",
     "output_type": "stream",
     "text": [
      "reconstruction error: 67.57283764161836\n",
      "topic 0\n",
      "--> band rock punk like post bands album band's even new black time metal would live much song rather indie sound\n",
      "please label this topic: Rock\n",
      "\n",
      "topic 1\n",
      "--> music like sound sounds electronic tracks ambient noise drone piece pieces work piano record something track way one feel drones\n",
      "please label this topic: Electronic\n",
      "\n",
      "topic 2\n",
      "--> rap hip hop like he's beats even get there's rapper one still i'm enough way shit beat production got good\n",
      "please label this topic: Rap\n",
      "\n",
      "topic 3\n",
      "--> soul funk music disc tracks compilation jazz set label two version one original early b years material live recorded 70s\n",
      "please label this topic: Soul\n",
      "\n",
      "topic 4\n",
      "--> songs like album song sings country voice sounds folk lyrics even sound life love music new he's one old man\n",
      "please label this topic: Country\n",
      "\n",
      "topic 5\n",
      "--> pop love indie like dance debut synth girl house new disco still enough electro beach boy synths song single also\n",
      "please label this topic: Pop\n",
      "\n",
      "topic 6\n",
      "--> guitar band album band's song vocals though songs one guitars melody drums sound good vocal best really little great well\n",
      "please label this topic: Gituar\n",
      "\n"
     ]
    }
   ],
   "source": [
    "from sklearn.decomposition import NMF as NMF_sklearn\n",
    "from src.code import build_text_vectorizer, hand_label_topics, analyze_article, NMF\n",
    "from nltk.corpus import stopwords\n",
    "\n",
    "contents = df_p.content\n",
    "web_urls = df_p.url\n",
    "\n",
    "# Build our text-to-vector vectorizer, then vectorize our corpus.\n",
    "vectorizer, vocabulary = build_text_vectorizer(contents,\n",
    "                             use_tfidf=True,\n",
    "                             use_stemmer=False,\n",
    "                             max_features=5000)\n",
    "X = vectorizer(contents)\n",
    "\n",
    "nmf = NMF_sklearn(n_components=7, max_iter=100, random_state=12345, alpha=0.0)\n",
    "W = nmf.fit_transform(X)\n",
    "H = nmf.components_\n",
    "print('reconstruction error:', nmf.reconstruction_err_)\n",
    "\n",
    "hand_labels = hand_label_topics(H, vocabulary)\n",
    "rand_articles = np.random.choice(range(len(W)), 15)\n"
   ]
  },
  {
   "cell_type": "code",
   "execution_count": 82,
   "metadata": {},
   "outputs": [
    {
     "name": "stderr",
     "output_type": "stream",
     "text": [
      "[nltk_data] Downloading package stopwords to\n",
      "[nltk_data]     /home/spsabin/nltk_data...\n",
      "[nltk_data]   Package stopwords is already up-to-date!\n"
     ]
    },
    {
     "data": {
      "text/plain": [
       "True"
      ]
     },
     "execution_count": 82,
     "metadata": {},
     "output_type": "execute_result"
    }
   ],
   "source": [
    "import nltk\n",
    "nltk.download('stopwords')"
   ]
  },
  {
   "cell_type": "code",
   "execution_count": 97,
   "metadata": {},
   "outputs": [
    {
     "name": "stdout",
     "output_type": "stream",
     "text": [
      "venom p. stinger\n",
      "http://pitchfork.com/reviews/albums/18422-venom-p-stinger-1986-1991/\n",
      "There’s something exciting about a rock band playing tight and sharp without sounding like they’re wearing straitjackets. Bleeding outside lines without losing sight of them gives any music extra juice-- especially when that music is punk or post-punk, where blurring rules is often the point. Sometimes it’s just about having a reckless singer: think of the way Darby Crash slobbers over the Germs’ chords, Mark E. Smith rants upstream of the Fall’s repetitions, or David Yow grunts and hacks through the Jesus Lizard’s rubber-band dynamics.Without that vocal variable, a band can still hit a sweet spot between tautness and sloppiness, but it’s tougher. One way is to play with so much muscle and adrenaline that the music bulges and tears at the seams. It’s a solution common to a bunch of 80s Australian post-punk bands-- groups with aptly guttural names like Fungus Brains, Sick Things, and People With Chairs Up Their Noses. My favorite was feedtime, who stretched punk by grinding it into a heavy, air-sucking marsh. Not far behind were Venom P. Stinger, a quartet who could sound as weighty as feedtime, but preferred quicker tempos and slightly more standard songs.The emphasis there is on slightly, because Venom P. Stinger’s take on punk was far from middle of the road. Most of their tunes began with a simple beat and a few chords, but soon revved into noisier, wilder territory. This was due in part to the singing of ex-Sick Thing Dugald McKenzie, a fiery chanter who could veer off course when the moment demanded it. But most of the band’s unruliness came from two elements: the slashing, spilling guitar of Mick Turner, and the shuffling percussion of Jim White, who managed to make drum rolls sound like punk beats. (Not coincidentally, the pair went on to expand these styles as part of the Dirty Three).This new compilation 1986-1991 collects Venom P. Stinger’s first four releases-- two LPs, a 7-inch, and an EP-- spotlighting a band for whom energy and insanity were much higher priorities than melody. Not that the songs didn’t have some strong semi-hooks. But there’s not a ton of melodic variance between tracks, which makes them less memorable as songs than as visceral experiences. After the dust settles, what echoes loudest is the vicious, sometimes daring power of the quartet’s workout-like performances.Venom P. Stinger’s songs did get catchier as they made more of them, though. Their 1986 debut LP Meet My Friend Venom is a marvel of primal thrust, tearing through the air so forcefully you often feel like you’re just catching its smoke trails. But on 1990’s What’s Yours is Mine, some hooks begin to creep in-- albeit ones that feel just as fleeting amidst the band’s high-octane assault. Even relatively mid-tempo tunes like the lumbering “Those Snakes” and the swaying “Pressure Inside” sound as urgent as their more frantic jams. By the time of 1991’s Waiting Room EP, things had become even more streamlined, with no loss of urgency. Turner in particular learned to play more melodically without abandoning his loose, impulsive attack.Waiting Room was the final release for the first version of Venom P. Stinger (they reunited a few years later with a different singer), so their time was pretty short. But their influence is detectable since-- see the noise-punk of Amphetamine Reptile bands like Halo of Flies, some of the more rock-damaged stuff on Load Records, and recent Aussie bands such as Eddy Current Suppression Ring and Slug Guts. Perhaps their music is ultimately for punk diehards seeking deviations from the genre’s norms. But if you’re inclined that way at all, it doesn’t get much better than this.\n",
      "--> 91.48% Rock\n",
      "--> 4.32% Electronic\n",
      "--> 2.77% Rap\n",
      "--> 0.31% Soul\n",
      "--> 0.50% Country\n",
      "--> 0.31% Pop\n",
      "--> 0.31% Gituar\n",
      "\n",
      "lust for youth\n",
      "http://pitchfork.com/reviews/albums/18122-lust-for-youth-perfect-view/\n",
      "This is what Hannes Norrvide does as Lust for Youth: He sets up two simple melody lines on his Casio keyboard. He lets them ram ceaselessly into each other like abandoned go-karts. And then, over a muted thump of a drum machine, he hollers into the void. That's his entire M.O., and on paper it sounds about as appetizing as sucking stale air from an open freezer. But Norrvide makes surprisingly tactile, even sensual music this way, and on Perfect View, his second full length in only six months, he rides his own modestly cresting wave. He is still making the exact same sound, and it remains narrowly captivating in the exact same way.The production on Perfect View is marginally cleaner and warmer than last fall's Growing Seeds, making it a lusher and prettier listen. But these are relative terms-- “unnerving” and “lonely” probably suit Lust for Youth better. Growing Seeds’ particular unnerving loneliness came not just from its sonic murk but from the traces of unease the murk failed to cover, and Perfect View, with its richer, mellower synths and deeper sound, brings Norrvide closer into focus. But his thick Swedish accent, muffled by reverb, still keeps us at an arms-length from his message: When he repeatedly chants the title of “I Found Love”, it sounds more like, “I’ve fallen off.”Norrvide has insisted in interviews that his songs are about love, relationships, and morality. They probably are, but you'll find very little in this music to tell you so. What you'll hear, above all, is a firm belief in the comfort of synthesizers-- the wide, lonely bands of sound they make, the cottony feeling they leave in your mind. The song titles function like blank, terse placards-- \"Another Day\", \"End\", \"Image\"-- and the hum of the music acts similarly, as a mild anaesthetic, a small tonic for the times you'd rather erase your feelings for a few minutes than think about them.Sifting through Perfect View to find highlightable moments proves surprisingly difficult: there's the nearly-funky bongo break on “Another Day”, the little bits of sampled speech that pop up on \"Barcelona\" and elsewhere; “Kirsten” and closer “I Found Love in a Different Place” turn the drum hits way up, and hint at what Lust for Youth might eventually sound like if Norrvide cleared his throat and demanded our undivided attention. But these details melt the minute you stop focusing on them, and I think Norrvide means them to. Listening normally, the songs blur together like fan blades, and it's hard to tell how long you've been listening to Perfect View. His is the ambient music of someone else's party, happening far away from where you are, and the distance is part of the allure.\n",
      "--> 78.76% Rock\n",
      "--> 0.11% Electronic\n",
      "--> 1.87% Rap\n",
      "--> 0.24% Soul\n",
      "--> 0.79% Country\n",
      "--> 17.70% Pop\n",
      "--> 0.52% Gituar\n",
      "\n",
      "steve reich\n",
      "http://pitchfork.com/reviews/albums/21584-four-organs-phase-patterns/\n",
      "\n",
      "--> 1.34% Rock\n",
      "--> 0.02% Electronic\n",
      "--> 0.02% Rap\n",
      "--> 0.27% Soul\n",
      "--> 98.32% Country\n",
      "--> 0.02% Pop\n",
      "--> 0.02% Gituar\n",
      "\n"
     ]
    }
   ],
   "source": [
    "rand_articles = np.random.choice(range(len(W)), 15)\n",
    "\n",
    "for i in rand_articles:\n",
    "    try:\n",
    "        print(df_p['artist'][i])\n",
    "        analyze_article(i, contents, web_urls, W, hand_labels)\n",
    "    except KeyError:\n",
    "        continue"
   ]
  }
 ],
 "metadata": {
  "kernelspec": {
   "display_name": "Python 3.7.6 64-bit ('base': conda)",
   "language": "python",
   "name": "python37664bitbasecondac55864995176478f9a976b9c2b78517d"
  },
  "language_info": {
   "codemirror_mode": {
    "name": "ipython",
    "version": 3
   },
   "file_extension": ".py",
   "mimetype": "text/x-python",
   "name": "python",
   "nbconvert_exporter": "python",
   "pygments_lexer": "ipython3",
   "version": "3.7.7"
  }
 },
 "nbformat": 4,
 "nbformat_minor": 4
}
